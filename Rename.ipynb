{
  "nbformat": 4,
  "nbformat_minor": 0,
  "metadata": {
    "colab": {
      "name": "Rename.ipynb",
      "provenance": []
    },
    "kernelspec": {
      "name": "python3",
      "display_name": "Python 3"
    },
    "language_info": {
      "name": "python"
    }
  },
  "cells": [
    {
      "cell_type": "code",
      "execution_count": null,
      "metadata": {
        "id": "zAmG5AaCElTX"
      },
      "outputs": [],
      "source": [
        "from google.colab import drive\n",
        "drive.mount('/content/drive')"
      ]
    },
    {
      "cell_type": "code",
      "source": [
        "path0 = \"/content/drive/MyDrive/DataAI_t/\"\n",
        "path1 = \"/content/drive/MyDrive/DataAI_t/Compass/\"\n",
        "path2 = \"/content/drive/MyDrive/DataAI_t/Human/\"\n",
        "path3 = \"/content/drive/MyDrive/DataAI_t/Lion/\"\n",
        "path4 = \"/content/drive/MyDrive/DataAI_t/Sun/\"\n"
      ],
      "metadata": {
        "id": "admYxH5cEmm8"
      },
      "execution_count": null,
      "outputs": []
    },
    {
      "cell_type": "code",
      "source": [
        "import os\n",
        "from PIL import Image as PImage\n",
        "import cv2\n",
        "from os import listdir\n",
        "import glob\n",
        "from keras.preprocessing.image import ImageDataGenerator, array_to_img, img_to_array, load_img\n",
        "import csv\n",
        "import pandas"
      ],
      "metadata": {
        "id": "PksD0q6-Enx7"
      },
      "execution_count": null,
      "outputs": []
    },
    {
      "cell_type": "code",
      "source": [
        "# Rename tên file\n",
        "# path = \"/content/drive/MyDrive/Data3/SUN/\"\n",
        "count = 0\n",
        "# count được bắt đầu từ 0 và tăng dần theo các file ảnh\n",
        "path = path2\n",
        "imageL = listdir(path)\n",
        "for img in imageL:\n",
        "  scr = path + img\n",
        "  des = path + \"Human_\" + str(count) + \".jpg\"\n",
        "  os.rename(scr, des)\n",
        "  count+=1\n",
        "print(count)"
      ],
      "metadata": {
        "id": "fRUZ_LMaEo77"
      },
      "execution_count": null,
      "outputs": []
    }
  ]
}