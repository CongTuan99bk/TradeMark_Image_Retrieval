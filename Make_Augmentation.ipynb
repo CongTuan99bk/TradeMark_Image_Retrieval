{
  "nbformat": 4,
  "nbformat_minor": 0,
  "metadata": {
    "colab": {
      "name": "Make_Augmentation.ipynb",
      "provenance": [],
      "collapsed_sections": []
    },
    "kernelspec": {
      "name": "python3",
      "display_name": "Python 3"
    },
    "language_info": {
      "name": "python"
    }
  },
  "cells": [
    {
      "cell_type": "code",
      "execution_count": null,
      "metadata": {
        "id": "qpDQ0mqtEzV3"
      },
      "outputs": [],
      "source": [
        "#tạo Augmentation\n",
        "path0 = \"/content/drive/MyDrive/DataAI_t/\"\n",
        "path1 = \"/content/drive/MyDrive/DataAI_t/Compass/\"\n",
        "path2 = \"/content/drive/MyDrive/DataAI_t/Human/\"\n",
        "path3 = \"/content/drive/MyDrive/DataAI_t/Lion/\"\n",
        "path4 = \"/content/drive/MyDrive/DataAI_t/Sun/\"\n",
        "path = path0\n"
      ]
    },
    {
      "cell_type": "code",
      "source": [
        "loadedImages = []\n",
        "imagesList = listdir(path)\n",
        "for image in imagesList:\n",
        "  img = PImage.open(datapath + '/' + image)\n",
        "  img = img.convert('RGB')\n",
        "  # img.show()\n",
        "  # print(image)\n",
        "  datagen = ImageDataGenerator(rotation_range = 0,shear_range = 0.2,zoom_range = 0.2,horizontal_flip = True,brightness_range = (0.5, 1.5))\n",
        "  x = img_to_array(img)\n",
        "  x = x.reshape((1, ) + x.shape)\n",
        "  i = 0\n",
        "  for batch in datagen.flow(x, batch_size = 1,save_to_dir = datapath, save_prefix ='Lion'+ str(i) , save_format ='jpg'):\n",
        "    i += 1\n",
        "    if i > 5:\n",
        "        break \n",
        "  loadedImages.append(img)"
      ],
      "metadata": {
        "id": "BKL1i9djFqGE"
      },
      "execution_count": null,
      "outputs": []
    }
  ]
}